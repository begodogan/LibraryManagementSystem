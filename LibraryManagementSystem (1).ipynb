{
  "nbformat": 4,
  "nbformat_minor": 0,
  "metadata": {
    "colab": {
      "provenance": []
    },
    "kernelspec": {
      "name": "python3",
      "display_name": "Python 3"
    },
    "language_info": {
      "name": "python"
    }
  },
  "cells": [
    {
      "cell_type": "code",
      "source": [
        "class Library:\n",
        "  def __init__(self, filename=\"books.txt\"):\n",
        "      self.filename = filename\n",
        "      self.file = open(self.filename, \"a+\")\n",
        "\n",
        "  def __del__(self):\n",
        "    self.file.close()\n",
        "\n",
        "  def list_books(self):\n",
        "    self.file.seek(0)\n",
        "    contents=self.file.read()\n",
        "    lines=contents.splitlines()\n",
        "\n",
        "    for information in lines:\n",
        "      info=information.split(',')\n",
        "      if len(info)==4:\n",
        "        title, author, release_date, pages=info\n",
        "        print(\"Book:\", title, \"author:\", author, \"release date:\", release_date,\"number of pages:\", pages)\n",
        "      else:\n",
        "        print(\"invalid data regarding books\")\n",
        "\n",
        "  def add_book(self):\n",
        "    title=input(\"title of the book: \")\n",
        "    author=input(\"author of the book: \")\n",
        "    release_date=input(\"release date: \")\n",
        "    pages= input(\"page count: \")\n",
        "\n",
        "    info = f\"{title}, {author}, {release_date}, {pages}\\n\"\n",
        "    self.file.write(info)\n",
        "\n",
        "  def remove_book(self):\n",
        "    title_del=input(\"title of the book that you want to remove: \")\n",
        "    self.file.seek(0)\n",
        "    contents=self.file.read()\n",
        "    book_list=contents.splitlines()\n",
        "\n",
        "    indexDel = None\n",
        "    for i, info in enumerate(book_list):\n",
        "        if title_del in info:\n",
        "            indexDel = i\n",
        "            break\n",
        "\n",
        "    if indexDel is not None:\n",
        "        del book_list[indexDel]\n",
        "\n",
        "        self.file.seek(0)\n",
        "        self.file.truncate()\n",
        "        #deletes everything from the list and rewrites it\n",
        "\n",
        "        for info in book_list:\n",
        "            self.file.write(info + '\\n')\n",
        "\n",
        "        print(f\"The book '{title_del}' has been removed.\")\n",
        "    else:\n",
        "        print(f\"The book '{title_del}' was not found.\")\n",
        "\n",
        "def print_menu():\n",
        "        print(\"*** MENU ***\")\n",
        "        print(\"1) List Books\")\n",
        "        print(\"2) Add Book\")\n",
        "        print(\"3) Remove Book\")\n",
        "        print(\"4) Terminate Process\")\n",
        "\n",
        "def main():\n",
        "  lib=Library()\n",
        "  while True:\n",
        "        print_menu()\n",
        "\n",
        "        selection=input(\"select your desired operation:\")\n",
        "\n",
        "        if selection==\"1\":\n",
        "              lib.list_books()\n",
        "        elif selection == \"2\":\n",
        "              lib.add_book()\n",
        "        elif selection == \"3\":\n",
        "              lib.remove_book()\n",
        "        elif selection == \"4\":\n",
        "          print(\"Process Terminated ,Thank You For Using our Library Management System\")\n",
        "          break\n",
        "        else:\n",
        "             print(\"error\")\n",
        "\n",
        "if __name__ == \"__main__\":\n",
        "    main()\n",
        "\n",
        "\n",
        "\n",
        "\n"
      ],
      "metadata": {
        "id": "aj5a47ZCuQHi",
        "colab": {
          "base_uri": "https://localhost:8080/"
        },
        "outputId": "21c81a54-7e78-4fac-dee0-250d5bf1c18a"
      },
      "execution_count": null,
      "outputs": [
        {
          "output_type": "stream",
          "name": "stdout",
          "text": [
            "*** MENU ***\n",
            "1) List Books\n",
            "2) Add Book\n",
            "3) Remove Book\n",
            "4) Terminate Process\n"
          ]
        }
      ]
    },
    {
      "cell_type": "code",
      "source": [],
      "metadata": {
        "id": "7HzmyRxs4CDQ"
      },
      "execution_count": null,
      "outputs": []
    }
  ]
}